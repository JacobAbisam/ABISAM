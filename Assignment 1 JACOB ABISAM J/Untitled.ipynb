{
 "cells": [
  {
   "cell_type": "code",
   "execution_count": 14,
   "metadata": {},
   "outputs": [
    {
     "name": "stdout",
     "output_type": "stream",
     "text": [
      "['b', 'c']\n",
      "['b', 'c', 'd']\n"
     ]
    }
   ],
   "source": [
    "#LIST AND DEFULT FUNCTIONS\n",
    "\n",
    "a = [\"b\" , \"c\"]\n",
    "print(a)\n",
    "a.append(\"d\")\n",
    "print(a)"
   ]
  },
  {
   "cell_type": "code",
   "execution_count": 15,
   "metadata": {},
   "outputs": [
    {
     "name": "stdout",
     "output_type": "stream",
     "text": [
      "['b', 'c']\n",
      "[]\n"
     ]
    }
   ],
   "source": [
    "a = [\"b\" , \"c\"]\n",
    "print(a)\n",
    "a.clear()\n",
    "print(a)"
   ]
  },
  {
   "cell_type": "code",
   "execution_count": 17,
   "metadata": {},
   "outputs": [
    {
     "name": "stdout",
     "output_type": "stream",
     "text": [
      "['b', 'c']\n",
      "['b', 'c']\n",
      "['b', 'c', 'd']\n"
     ]
    }
   ],
   "source": [
    "a = [\"b\" , \"c\"]\n",
    "print(a)\n",
    "x = a.copy()\n",
    "x.append(\"d\")\n",
    "print(a)\n",
    "print(x)"
   ]
  },
  {
   "cell_type": "code",
   "execution_count": 20,
   "metadata": {},
   "outputs": [
    {
     "name": "stdout",
     "output_type": "stream",
     "text": [
      "1\n",
      "2\n"
     ]
    }
   ],
   "source": [
    "a = [\"b\" , \"c\" , \"d\" , \"c\"]\n",
    "print(a.count(\"b\"))\n",
    "print(a.count(\"c\"))"
   ]
  },
  {
   "cell_type": "code",
   "execution_count": 23,
   "metadata": {},
   "outputs": [
    {
     "name": "stdout",
     "output_type": "stream",
     "text": [
      "['b', 'c']\n",
      "['b', 'c', 'd', 'e']\n"
     ]
    }
   ],
   "source": [
    "a = [\"b\" , \"c\"]\n",
    "print(a)\n",
    "a.extend([\"d\" , \"e\"])\n",
    "print(a)"
   ]
  },
  {
   "cell_type": "code",
   "execution_count": 24,
   "metadata": {},
   "outputs": [
    {
     "name": "stdout",
     "output_type": "stream",
     "text": [
      "0\n",
      "3\n"
     ]
    }
   ],
   "source": [
    "a = [\"b\", \"c\", \"d\", \"b\"]\n",
    "print(a.index(\"b\"))\n",
    "print(a.index(\"b\", 2))"
   ]
  },
  {
   "cell_type": "code",
   "execution_count": 25,
   "metadata": {},
   "outputs": [
    {
     "name": "stdout",
     "output_type": "stream",
     "text": [
      "['b', 'c']\n",
      "['d', 'b', 'c']\n",
      "['d', 'b', 'e', 'c']\n"
     ]
    }
   ],
   "source": [
    "a = [\"b\", \"c\"]\n",
    "print(a)\n",
    "a.insert(0, \"d\")\n",
    "print(a)\n",
    "a.insert(2, \"e\")\n",
    "print(a)"
   ]
  },
  {
   "cell_type": "code",
   "execution_count": 27,
   "metadata": {},
   "outputs": [
    {
     "name": "stdout",
     "output_type": "stream",
     "text": [
      "['b', 'c', 'd']\n",
      "['b', 'd']\n"
     ]
    }
   ],
   "source": [
    "a = [\"b\", \"c\", \"d\"]\n",
    "print(a)\n",
    "a.pop(1)\n",
    "print(a)"
   ]
  },
  {
   "cell_type": "code",
   "execution_count": 29,
   "metadata": {},
   "outputs": [
    {
     "name": "stdout",
     "output_type": "stream",
     "text": [
      "['b', 'c', 'd']\n",
      "['b', 'c']\n"
     ]
    }
   ],
   "source": [
    "a = [\"b\", \"c\", \"d\"]\n",
    "print(a)\n",
    "a.remove(\"d\")\n",
    "print(a)"
   ]
  },
  {
   "cell_type": "code",
   "execution_count": 31,
   "metadata": {},
   "outputs": [
    {
     "name": "stdout",
     "output_type": "stream",
     "text": [
      "['d', 'c', 'b']\n"
     ]
    }
   ],
   "source": [
    "a = [\"b\" , \"c\" , \"d\"]\n",
    "a.reverse()\n",
    "print(a)"
   ]
  },
  {
   "cell_type": "code",
   "execution_count": 33,
   "metadata": {},
   "outputs": [
    {
     "name": "stdout",
     "output_type": "stream",
     "text": [
      "[1, 2, 3, 4, 5, 6, 7, 8, 9, 10]\n"
     ]
    }
   ],
   "source": [
    "a = [9,8,5,2,1,3,4,6,10,7]\n",
    "a.sort()\n",
    "print(a)"
   ]
  },
  {
   "cell_type": "code",
   "execution_count": 36,
   "metadata": {},
   "outputs": [
    {
     "name": "stdout",
     "output_type": "stream",
     "text": [
      "Dictionary: {'A': 1, 'B': 2, 'C': 3}\n",
      "Third_value: 3\n"
     ]
    }
   ],
   "source": [
    "#DICTIONARY AND DEFAULT FUNCTIONS\n",
    "\n",
    "Dictionary1 = { 'A': 1, 'B': 2, 'C': 3} \n",
    "Third_value = Dictionary1.setdefault('C') \n",
    "print(\"Dictionary:\", Dictionary1) \n",
    "print(\"Third_value:\", Third_value) "
   ]
  },
  {
   "cell_type": "code",
   "execution_count": 48,
   "metadata": {},
   "outputs": [
    {
     "name": "stdout",
     "output_type": "stream",
     "text": [
      "The dictionary before deletion : {'Nikhil': 7, 'Akshat': 1, 'Akash': 2}\n",
      "Value associated to poppped key is : 2\n",
      "Dictionary after deletion is : {'Nikhil': 7, 'Akshat': 1}\n"
     ]
    }
   ],
   "source": [
    "dict = { \"Nikhil\" : 7, \"Akshat\" : 1, \"Akash\" : 2 } \n",
    "print (\"The dictionary before deletion : \" + str(dict)) \n",
    "pop_ele = dict.pop('Akash') \n",
    "print (\"Value associated to poppped key is : \" + str(pop_ele)) \n",
    "print (\"Dictionary after deletion is : \" + str(dict)) "
   ]
  },
  {
   "cell_type": "code",
   "execution_count": 46,
   "metadata": {},
   "outputs": [
    {
     "name": "stdout",
     "output_type": "stream",
     "text": [
      "{1, 2, 3, 4, 5}\n",
      "{1, 2, 3, 4, 5}\n"
     ]
    }
   ],
   "source": [
    "dict = {1 , 2 , 3 , 4 , 5}\n",
    "print(dict)\n",
    "test_dict.clear()\n",
    "print(dict)"
   ]
  },
  {
   "cell_type": "code",
   "execution_count": 45,
   "metadata": {},
   "outputs": [
    {
     "name": "stdout",
     "output_type": "stream",
     "text": [
      "{1, 2, 3, 4, 5}\n",
      "{1, 2, 3, 4, 5, 6}\n"
     ]
    }
   ],
   "source": [
    "dict = {1 , 2 , 3 , 4 , 5}\n",
    "print(dict)\n",
    "dict.add(6)\n",
    "print(dict)"
   ]
  },
  {
   "cell_type": "code",
   "execution_count": 44,
   "metadata": {},
   "outputs": [
    {
     "name": "stdout",
     "output_type": "stream",
     "text": [
      "{1, 2, 3, 4, 5}\n",
      "{1, 2, 3, 4, 5}\n"
     ]
    }
   ],
   "source": [
    "dict = {1 , 2 , 3 , 4 , 5}\n",
    "print(dict)\n",
    "dict.copy()\n",
    "print(dict)"
   ]
  },
  {
   "cell_type": "code",
   "execution_count": 43,
   "metadata": {},
   "outputs": [
    {
     "name": "stdout",
     "output_type": "stream",
     "text": [
      "dict_keys(['A', 'B'])\n",
      "dict_keys(['A', 'B', 'C'])\n"
     ]
    }
   ],
   "source": [
    "Dictionary1 = {'A': 1, 'B': 2} \n",
    "keys = Dictionary1.keys() \n",
    "print(keys)\n",
    "Dictionary1.update({'C':3}) \n",
    "print(keys) "
   ]
  },
  {
   "cell_type": "code",
   "execution_count": 49,
   "metadata": {},
   "outputs": [
    {
     "name": "stdout",
     "output_type": "stream",
     "text": [
      "The newly created dict with None values : {'b': None, 'a': None, 'd': None, 'e': None, 'c': None}\n",
      "The newly created dict with 1 as value : {'b': 1, 'a': 1, 'd': 1, 'e': 1, 'c': 1}\n"
     ]
    }
   ],
   "source": [
    "seq = { 'a', 'b', 'c', 'd', 'e' } \n",
    "res_dict = dict.fromkeys(seq) \n",
    "print (\"The newly created dict with None values : \" + str(res_dict)) \n",
    "res_dict2 = dict.fromkeys(seq, 1) \n",
    "print(\"The newly created dict with 1 as value : \" + str(res_dict2)) "
   ]
  },
  {
   "cell_type": "code",
   "execution_count": 51,
   "metadata": {},
   "outputs": [
    {
     "name": "stdout",
     "output_type": "stream",
     "text": [
      "Original Dictionary:\n",
      "{'A': 1, 'B': 2}\n",
      "Dictionary after updation:\n",
      "{'A': 1, 'B': 2}\n"
     ]
    }
   ],
   "source": [
    "Dictionary1 = { 'A': 1, 'B': 2, } \n",
    "Dictionary2 = { 'B': 2 }\n",
    "print(\"Original Dictionary:\") \n",
    "print(Dictionary1) \n",
    "Dictionary1.update(Dictionary2) \n",
    "print(\"Dictionary after updation:\") \n",
    "print(Dictionary1) "
   ]
  },
  {
   "cell_type": "code",
   "execution_count": 53,
   "metadata": {},
   "outputs": [
    {
     "name": "stdout",
     "output_type": "stream",
     "text": [
      "dict_items([('A', 'Geeks'), ('B', 4), ('C', 'Geeks')])\n"
     ]
    }
   ],
   "source": [
    "Dictionary1 = { 'A': 'Geeks', 'B': 4, 'C': 'Geeks' } \n",
    "print(Dictionary1.items()) "
   ]
  },
  {
   "cell_type": "code",
   "execution_count": 2,
   "metadata": {},
   "outputs": [
    {
     "name": "stdout",
     "output_type": "stream",
     "text": [
      "{1, 2, 3, 4, 5}\n",
      "{1, 2, 3, 4, 5, 6}\n"
     ]
    }
   ],
   "source": [
    "#SETS AND DEFAULT FUNCTIONS\n",
    "set = {1,2,3,4,5}\n",
    "print(set)\n",
    "set.add(6)\n",
    "print(set)\n"
   ]
  },
  {
   "cell_type": "code",
   "execution_count": 6,
   "metadata": {},
   "outputs": [
    {
     "name": "stdout",
     "output_type": "stream",
     "text": [
      "{1, 2, 3, 4, 5}\n",
      "set()\n"
     ]
    }
   ],
   "source": [
    "set = {1,2,3,4,5}\n",
    "print(set)\n",
    "set.clear()\n",
    "print(set)"
   ]
  },
  {
   "cell_type": "code",
   "execution_count": 7,
   "metadata": {},
   "outputs": [
    {
     "name": "stdout",
     "output_type": "stream",
     "text": [
      "{1, 2, 3, 4, 5}\n",
      "{1, 2, 3, 4, 5}\n"
     ]
    }
   ],
   "source": [
    "set = {1,2,3,4,5}\n",
    "print(set)\n",
    "set.copy()\n",
    "print(set)\n"
   ]
  },
  {
   "cell_type": "code",
   "execution_count": 11,
   "metadata": {},
   "outputs": [
    {
     "name": "stdout",
     "output_type": "stream",
     "text": [
      "{'d', 'e'}\n"
     ]
    }
   ],
   "source": [
    "x = {\"a\", \"b\", \"c\"}\n",
    "y = {\"d\", \"e\", \"a\"}\n",
    "\n",
    "z = y.difference(x) \n",
    "\n",
    "print(z)"
   ]
  },
  {
   "cell_type": "code",
   "execution_count": 13,
   "metadata": {},
   "outputs": [
    {
     "name": "stdout",
     "output_type": "stream",
     "text": [
      "{1, 2, 3, 4, 5}\n",
      "{1, 3, 4, 5}\n"
     ]
    }
   ],
   "source": [
    "set = {1,2,3,4,5}\n",
    "print(set)\n",
    "set.discard(2)\n",
    "print(set)"
   ]
  },
  {
   "cell_type": "code",
   "execution_count": 19,
   "metadata": {},
   "outputs": [
    {
     "name": "stdout",
     "output_type": "stream",
     "text": [
      "None\n"
     ]
    }
   ],
   "source": [
    "x = {10,20,30,40,50}\n",
    "y = {20,30,100,10}\n",
    "\n",
    "z = y.difference_update(x) \n",
    "\n",
    "print(z)"
   ]
  },
  {
   "cell_type": "code",
   "execution_count": 21,
   "metadata": {},
   "outputs": [
    {
     "name": "stdout",
     "output_type": "stream",
     "text": [
      "{1, 2, 3, 4, 5}\n",
      "{1, 2, 3, 5}\n"
     ]
    }
   ],
   "source": [
    "set = {1,2,3,4,5}\n",
    "print(set)\n",
    "set.remove(4)\n",
    "print(set)"
   ]
  },
  {
   "cell_type": "code",
   "execution_count": 23,
   "metadata": {},
   "outputs": [
    {
     "name": "stdout",
     "output_type": "stream",
     "text": [
      "{1, 2, 3, 4, 5}\n",
      "{2, 3, 4, 5}\n"
     ]
    }
   ],
   "source": [
    "set = {1,2,3,4,5}\n",
    "print(set)\n",
    "set.pop()\n",
    "print(set)"
   ]
  },
  {
   "cell_type": "code",
   "execution_count": 24,
   "metadata": {},
   "outputs": [
    {
     "name": "stdout",
     "output_type": "stream",
     "text": [
      "{100, 40, 10, 50, 20, 30}\n"
     ]
    }
   ],
   "source": [
    "x = {10,20,30,40,50}\n",
    "y = {20,30,100,10}\n",
    "\n",
    "z = y.union(x) \n",
    "\n",
    "print(z)"
   ]
  },
  {
   "cell_type": "code",
   "execution_count": 25,
   "metadata": {},
   "outputs": [
    {
     "name": "stdout",
     "output_type": "stream",
     "text": [
      "None\n"
     ]
    }
   ],
   "source": [
    "x = {10,20,30,40,50}\n",
    "y = {20,30,100,10}\n",
    "\n",
    "z = y.update(x) \n",
    "\n",
    "print(z)"
   ]
  },
  {
   "cell_type": "code",
   "execution_count": null,
   "metadata": {},
   "outputs": [],
   "source": []
  }
 ],
 "metadata": {
  "kernelspec": {
   "display_name": "Python 3",
   "language": "python",
   "name": "python3"
  },
  "language_info": {
   "codemirror_mode": {
    "name": "ipython",
    "version": 3
   },
   "file_extension": ".py",
   "mimetype": "text/x-python",
   "name": "python",
   "nbconvert_exporter": "python",
   "pygments_lexer": "ipython3",
   "version": "3.7.6"
  }
 },
 "nbformat": 4,
 "nbformat_minor": 4
}
